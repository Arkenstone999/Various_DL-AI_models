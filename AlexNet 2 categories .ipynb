{
 "cells": [
  {
   "cell_type": "code",
   "execution_count": 1,
   "id": "f02fd47a-88c6-4be7-819c-d508a61b6518",
   "metadata": {},
   "outputs": [],
   "source": [
    "import torch\n",
    "from torch.utils.data import Dataset, DataLoader\n",
    "from sklearn.preprocessing import LabelEncoder\n",
    "from sklearn.model_selection import train_test_split\n",
    "import pandas as pd\n",
    "from sklearn.preprocessing import LabelEncoder\n",
    "from sklearn.model_selection import train_test_split\n",
    "\n",
    "import torchvision.models as models\n",
    "import torch.nn as nn\n",
    "import torch.optim as optim"
   ]
  },
  {
   "cell_type": "code",
   "execution_count": 2,
   "id": "12f57a5f-e4ef-4d2c-882f-f27f07978e80",
   "metadata": {},
   "outputs": [],
   "source": [
    "df = pd.read_pickle('combined_df.pkl')"
   ]
  },
  {
   "cell_type": "code",
   "execution_count": 3,
   "id": "52c0ae6a-8c85-40c1-846b-91130f0a3bc0",
   "metadata": {},
   "outputs": [],
   "source": [
    "df = df.dropna(subset=['image'])"
   ]
  },
  {
   "cell_type": "code",
   "execution_count": 5,
   "id": "f1eb65b3-ed19-4cda-af20-57dc5827ba51",
   "metadata": {},
   "outputs": [
    {
     "data": {
      "text/plain": [
       "array(['irritation', 'frustration', 'wrath', 'rage', 'anger',\n",
       "       'exasperation', 'spite', 'fury', 'annoyance', 'resentment',\n",
       "       'grumpiness', 'outrage', 'aggravation', 'hostility', 'grouchiness',\n",
       "       'desire', 'passion', 'longing', 'lust', 'infatuation', 'gloom',\n",
       "       'rejection', 'disappointment', 'unhappiness', 'defeat',\n",
       "       'agitation', 'insult', 'loneliness', 'alienation', 'hate',\n",
       "       'displeasure', 'jealousy', 'dislike', 'contempt', 'disgust',\n",
       "       'envy', 'revulsion', 'bitterness', 'scorn', 'loathing', 'horror',\n",
       "       'terror', 'dread', 'nervousness', 'fear', 'worry', 'panic',\n",
       "       'fright', 'hysteria', 'alarm', 'dismay', 'tenseness',\n",
       "       'apprehension', 'anxiety', 'uneasiness', 'hurt', 'suffering',\n",
       "       'agony', 'distress', 'anguish', 'insecurity', 'torment',\n",
       "       'optimism', 'attraction', 'excitement', 'liking', 'eagerness',\n",
       "       'hope', 'zeal', 'arousal', 'gladness', 'joy', 'happiness',\n",
       "       'delight', 'rapture', 'cheerfulness', 'joviality', 'elation',\n",
       "       'bliss', 'enjoyment', 'ecstasy', 'gaiety', 'euphoria',\n",
       "       'jubilation', 'glee', 'jolliness', 'zest', 'caring', 'love',\n",
       "       'affection', 'compassion', 'adoration', 'pity', 'sentimentality',\n",
       "       'tenderness', 'sympathy', 'fondness', 'isolation', 'neglect',\n",
       "       'contentment', 'pride', 'satisfaction', 'pleasure', 'triumph',\n",
       "       'relief', 'sadness', 'hopelessness', 'grief', 'despair',\n",
       "       'depression', 'sorrow', 'melancholy', 'dejection', 'misery', 'woe',\n",
       "       'glumness', 'homesickness', 'guilt', 'humiliation', 'shame',\n",
       "       'embarrassment', 'remorse', 'regret', 'mortification',\n",
       "       'astonishment', 'shock', 'amusement', 'amazement', 'surprise',\n",
       "       'thrill', 'enthusiasm', 'exhilaration', 'enthrallment',\n",
       "       'vengefulness'], dtype=object)"
      ]
     },
     "execution_count": 5,
     "metadata": {},
     "output_type": "execute_result"
    }
   ],
   "source": [
    "df.label.unique()"
   ]
  },
  {
   "cell_type": "code",
   "execution_count": 13,
   "id": "9739883b-9116-4051-9738-3dd9fd561a51",
   "metadata": {},
   "outputs": [
    {
     "name": "stdout",
     "output_type": "stream",
     "text": [
      "engagement_type\n",
      "engaged        16901\n",
      "not engaged    12788\n",
      "Name: count, dtype: int64\n"
     ]
    }
   ],
   "source": [
    "# Define the two-category mapping\n",
    "engagement_mapping = {\n",
    "    \"engaged\": [\n",
    "        # Anger-related\n",
    "        \"irritation\", \"frustration\", \"wrath\", \"rage\", \"anger\", \"exasperation\", \"spite\",\n",
    "        \"fury\", \"annoyance\", \"resentment\", \"grumpiness\", \"outrage\", \"aggravation\",\n",
    "        \"hostility\", \"grouchiness\", \"vengefulness\",\n",
    "        \n",
    "        # Desire & passion\n",
    "        \"desire\", \"passion\", \"longing\", \"lust\", \"infatuation\",'agitation',\n",
    "        \n",
    "        # Fear & alertness\n",
    "        \"terror\", \"dread\", \"nervousness\", \"fear\", \"worry\", \"panic\", \"fright\", \"hysteria\",\n",
    "        \"alarm\", \"dismay\", \"tenseness\", \"apprehension\", \"anxiety\", \"uneasiness\", 'horror',\n",
    "        \n",
    "        # Joy & enthusiasm\n",
    "        \"optimism\", \"attraction\", \"excitement\", \"liking\", \"eagerness\", \"hope\", \"zeal\",\n",
    "        \"arousal\", \"gladness\", \"joy\", \"happiness\", \"delight\", \"rapture\", \"cheerfulness\",\n",
    "        \"joviality\", \"elation\", \"bliss\", \"enjoyment\", \"ecstasy\", \"gaiety\", \"euphoria\",\n",
    "        \"jubilation\", \"glee\", \"jolliness\", \"zest\",\n",
    "        \n",
    "        # Love & connection\n",
    "        \"caring\", \"love\", \"affection\", \"compassion\", \"adoration\", \"pity\", \"sentimentality\",\n",
    "        \"tenderness\", \"sympathy\", \"fondness\",\n",
    "        \n",
    "        # Pride & achievement\n",
    "        \"pride\", \"satisfaction\", \"pleasure\", \"triumph\", \"relief\",\n",
    "        \n",
    "        # Surprise & stimulation\n",
    "        \"astonishment\", \"shock\", \"amusement\", \"amazement\", \"surprise\", \"thrill\",\n",
    "        \"enthusiasm\", \"exhilaration\", \"enthrallment\"\n",
    "    ],\n",
    "    \"not engaged\": [\n",
    "        # Sadness & disappointment\n",
    "        \"gloom\", \"rejection\", \"disappointment\", \"unhappiness\", \"defeat\", \"isolation\",\n",
    "        \"neglect\", \"sadness\", \"hopelessness\", \"grief\", \"despair\", \"depression\",\n",
    "        \"sorrow\", \"melancholy\", \"dejection\", \"misery\", \"woe\", \"glumness\", \"homesickness\",\n",
    "        \n",
    "        # Social/negative distancing\n",
    "        \"insult\", \"loneliness\", \"alienation\", \"hate\", \"displeasure\", \"jealousy\", \"dislike\",\n",
    "        \"contempt\", \"disgust\", \"envy\", \"revulsion\", \"bitterness\", \"scorn\", \"loathing\",\n",
    "        \n",
    "        # Pain & insecurity\n",
    "        \"hurt\", \"suffering\", \"agony\", \"distress\", \"anguish\", \"insecurity\", \"torment\",\n",
    "        \n",
    "        # Guilt & shame\n",
    "        \"guilt\", \"humiliation\", \"shame\", \"embarrassment\", \"remorse\", \"regret\",\n",
    "        \"mortification\",\n",
    "        \n",
    "        # Mild positive or neutral\n",
    "        \"contentment\"\n",
    "    ]\n",
    "}\n",
    "\n",
    "# Flatten to label -> category mapping\n",
    "flat_mapping = {label: category for category, labels in engagement_mapping.items() for label in labels}\n",
    "\n",
    "# Apply mapping to your DataFrame\n",
    "df['engagement_type'] = df['label'].map(flat_mapping)\n",
    "\n",
    "# Optional: View results\n",
    "print(df['engagement_type'].value_counts())\n"
   ]
  },
  {
   "cell_type": "code",
   "execution_count": 15,
   "id": "28ba1a4d-f182-45cd-bbb5-9a182d518b36",
   "metadata": {},
   "outputs": [
    {
     "name": "stdout",
     "output_type": "stream",
     "text": [
      "engagement_type\n",
      "engaged        12788\n",
      "not engaged    12788\n",
      "Name: count, dtype: int64\n"
     ]
    },
    {
     "name": "stderr",
     "output_type": "stream",
     "text": [
      "C:\\Users\\alina\\AppData\\Local\\Temp\\ipykernel_25472\\3667488993.py:7: DeprecationWarning: DataFrameGroupBy.apply operated on the grouping columns. This behavior is deprecated, and in a future version of pandas the grouping columns will be excluded from the operation. Either pass `include_groups=False` to exclude the groupings or explicitly select the grouping columns after groupby to silence this warning.\n",
      "  .apply(lambda x: x.sample(n=min_class_size, random_state=42))\n"
     ]
    }
   ],
   "source": [
    "# Step 1: Define the target sample size\n",
    "min_class_size = df['engagement_type'].value_counts().min()\n",
    "\n",
    "# Step 2: Sample each class down to the minimum size\n",
    "df_balanced = (\n",
    "    df.groupby('engagement_type', group_keys=False)\n",
    "      .apply(lambda x: x.sample(n=min_class_size, random_state=42))\n",
    "      .reset_index(drop=True)\n",
    ")\n",
    "\n",
    "# Step 3: Check the balance\n",
    "print(df_balanced['engagement_type'].value_counts())"
   ]
  },
  {
   "cell_type": "code",
   "execution_count": 16,
   "id": "a95ce97f-9af3-4423-9deb-8814ac197ea8",
   "metadata": {},
   "outputs": [],
   "source": [
    "# Encode labels\n",
    "le = LabelEncoder()\n",
    "df_balanced['label'] = le.fit_transform(df_balanced['engagement_type'])"
   ]
  },
  {
   "cell_type": "code",
   "execution_count": 17,
   "id": "95787cfd-4d42-43a5-8bb1-a9d562d454d5",
   "metadata": {},
   "outputs": [],
   "source": [
    "# Split\n",
    "train_df, val_df = train_test_split(df_balanced, test_size=0.2, random_state=42)"
   ]
  },
  {
   "cell_type": "code",
   "execution_count": 18,
   "id": "a2289e9b-8b44-472d-9484-474745237887",
   "metadata": {},
   "outputs": [],
   "source": [
    "class EngagementDataset(Dataset):\n",
    "    def __init__(self, dataframe):\n",
    "        self.images = dataframe['image'].tolist()\n",
    "        self.labels = dataframe['label'].tolist()\n",
    "\n",
    "    def __len__(self):\n",
    "        return len(self.images)\n",
    "\n",
    "    def __getitem__(self, idx):\n",
    "        image = self.images[idx]\n",
    "        label = self.labels[idx]\n",
    "        return image, label"
   ]
  },
  {
   "cell_type": "code",
   "execution_count": 19,
   "id": "8961f3fd-c115-44cb-83a5-4f52efe85128",
   "metadata": {},
   "outputs": [],
   "source": [
    "batch_size = 32\n",
    "\n",
    "train_dataset = EngagementDataset(train_df)\n",
    "val_dataset = EngagementDataset(val_df)\n",
    "\n",
    "train_loader = DataLoader(train_dataset, batch_size=batch_size, shuffle=True)\n",
    "val_loader = DataLoader(val_dataset, batch_size=batch_size)\n"
   ]
  },
  {
   "cell_type": "code",
   "execution_count": 22,
   "id": "69fbe3f1-55aa-46e1-ad85-fcc8cd3f0c66",
   "metadata": {},
   "outputs": [],
   "source": [
    "num_classes = len(le.classes_)\n",
    "\n",
    "model = models.alexnet(pretrained=True)\n",
    "model.classifier = nn.Sequential(\n",
    "    nn.Dropout(p=0.6),                      # ← increased dropout\n",
    "    nn.Linear(256 * 6 * 6, 4096),\n",
    "    nn.ReLU(inplace=True),\n",
    "    nn.Dropout(p=0.6),                      # ← increased dropout\n",
    "    nn.Linear(4096, 4096),\n",
    "    nn.ReLU(inplace=True),\n",
    "    nn.Linear(4096, num_classes)\n",
    ")\n",
    "device = torch.device('cuda' if torch.cuda.is_available() else 'cpu')\n",
    "model = model.to(device)"
   ]
  },
  {
   "cell_type": "code",
   "execution_count": 21,
   "id": "e93b12e0-e692-4920-96c7-e107fb4cb999",
   "metadata": {},
   "outputs": [],
   "source": [
    "criterion = nn.CrossEntropyLoss()\n",
    "optimizer = optim.Adam(model.parameters(), lr=1e-5)"
   ]
  },
  {
   "cell_type": "code",
   "execution_count": 23,
   "id": "b1cb5df8-22dd-455e-9337-6e3c1f78fd98",
   "metadata": {},
   "outputs": [
    {
     "name": "stdout",
     "output_type": "stream",
     "text": [
      "Epoch 1/30 | Train Loss: 0.7113 | Train Acc: 50.33% | Val Acc: 50.33%\n",
      "Epoch 2/30 | Train Loss: 0.7094 | Train Acc: 50.64% | Val Acc: 50.33%\n",
      "Epoch 3/30 | Train Loss: 0.7131 | Train Acc: 49.70% | Val Acc: 50.33%\n",
      "Epoch 4/30 | Train Loss: 0.7116 | Train Acc: 50.43% | Val Acc: 50.33%\n",
      "Epoch 5/30 | Train Loss: 0.7131 | Train Acc: 49.94% | Val Acc: 50.33%\n",
      "Epoch 6/30 | Train Loss: 0.7140 | Train Acc: 49.25% | Val Acc: 50.33%\n",
      "Epoch 7/30 | Train Loss: 0.7124 | Train Acc: 49.86% | Val Acc: 50.33%\n",
      "Epoch 8/30 | Train Loss: 0.7137 | Train Acc: 49.57% | Val Acc: 50.33%\n",
      "Epoch 9/30 | Train Loss: 0.7105 | Train Acc: 50.30% | Val Acc: 50.33%\n",
      "Epoch 10/30 | Train Loss: 0.7121 | Train Acc: 50.00% | Val Acc: 50.33%\n",
      "Epoch 11/30 | Train Loss: 0.7140 | Train Acc: 49.65% | Val Acc: 50.33%\n",
      "Epoch 12/30 | Train Loss: 0.7114 | Train Acc: 50.00% | Val Acc: 50.33%\n",
      "Epoch 13/30 | Train Loss: 0.7160 | Train Acc: 49.08% | Val Acc: 50.33%\n",
      "Epoch 14/30 | Train Loss: 0.7119 | Train Acc: 50.10% | Val Acc: 50.33%\n",
      "Epoch 15/30 | Train Loss: 0.7138 | Train Acc: 49.71% | Val Acc: 50.33%\n",
      "Epoch 16/30 | Train Loss: 0.7129 | Train Acc: 49.49% | Val Acc: 50.33%\n",
      "Epoch 17/30 | Train Loss: 0.7127 | Train Acc: 50.22% | Val Acc: 50.33%\n",
      "Epoch 18/30 | Train Loss: 0.7113 | Train Acc: 50.31% | Val Acc: 50.33%\n",
      "Epoch 19/30 | Train Loss: 0.7133 | Train Acc: 49.97% | Val Acc: 50.33%\n",
      "Epoch 20/30 | Train Loss: 0.7104 | Train Acc: 50.14% | Val Acc: 50.33%\n",
      "Epoch 21/30 | Train Loss: 0.7109 | Train Acc: 50.25% | Val Acc: 50.33%\n",
      "Epoch 22/30 | Train Loss: 0.7113 | Train Acc: 50.07% | Val Acc: 50.33%\n",
      "Epoch 23/30 | Train Loss: 0.7124 | Train Acc: 49.77% | Val Acc: 50.33%\n",
      "Epoch 24/30 | Train Loss: 0.7111 | Train Acc: 50.46% | Val Acc: 50.33%\n",
      "Epoch 25/30 | Train Loss: 0.7123 | Train Acc: 50.09% | Val Acc: 50.33%\n",
      "Epoch 26/30 | Train Loss: 0.7126 | Train Acc: 49.85% | Val Acc: 50.33%\n",
      "Epoch 27/30 | Train Loss: 0.7126 | Train Acc: 49.33% | Val Acc: 50.33%\n",
      "Epoch 28/30 | Train Loss: 0.7162 | Train Acc: 49.30% | Val Acc: 50.33%\n",
      "Epoch 29/30 | Train Loss: 0.7103 | Train Acc: 50.42% | Val Acc: 50.33%\n",
      "Epoch 30/30 | Train Loss: 0.7122 | Train Acc: 50.07% | Val Acc: 50.33%\n"
     ]
    }
   ],
   "source": [
    "num_epochs = 30\n",
    "\n",
    "for epoch in range(num_epochs):\n",
    "    # -------- TRAINING --------\n",
    "    model.train()\n",
    "    running_loss = 0.0\n",
    "    correct_train, total_train = 0, 0\n",
    "\n",
    "    for images, labels in train_loader:\n",
    "        images, labels = images.to(device), labels.to(device)\n",
    "\n",
    "        optimizer.zero_grad()\n",
    "        outputs = model(images)\n",
    "        loss = criterion(outputs, labels)\n",
    "        loss.backward()\n",
    "        optimizer.step()\n",
    "\n",
    "        running_loss += loss.item()\n",
    "\n",
    "        # Training accuracy\n",
    "        _, predicted = torch.max(outputs.data, 1)\n",
    "        total_train += labels.size(0)\n",
    "        correct_train += (predicted == labels).sum().item()\n",
    "\n",
    "    avg_train_loss = running_loss / len(train_loader)\n",
    "    train_accuracy = 100 * correct_train / total_train\n",
    "\n",
    "    # -------- VALIDATION --------\n",
    "    model.eval()\n",
    "    correct_val, total_val = 0, 0\n",
    "\n",
    "    with torch.no_grad():\n",
    "        for images, labels in val_loader:\n",
    "            images, labels = images.to(device), labels.to(device)\n",
    "            outputs = model(images)\n",
    "            _, predicted = torch.max(outputs.data, 1)\n",
    "            total_val += labels.size(0)\n",
    "            correct_val += (predicted == labels).sum().item()\n",
    "\n",
    "    val_accuracy = 100 * correct_val / total_val\n",
    "\n",
    "    # -------- LOG RESULTS --------\n",
    "    print(f\"Epoch {epoch+1}/{num_epochs} | \"\n",
    "          f\"Train Loss: {avg_train_loss:.4f} | \"\n",
    "          f\"Train Acc: {train_accuracy:.2f}% | \"\n",
    "          f\"Val Acc: {val_accuracy:.2f}%\")\n"
   ]
  },
  {
   "cell_type": "code",
   "execution_count": null,
   "id": "27c14177-b421-4280-9dd4-ff71f6b96346",
   "metadata": {},
   "outputs": [],
   "source": []
  },
  {
   "cell_type": "code",
   "execution_count": null,
   "id": "6434eb77-fe31-4ba5-8e60-c869ba586cb0",
   "metadata": {},
   "outputs": [],
   "source": []
  },
  {
   "cell_type": "code",
   "execution_count": null,
   "id": "5b1e0efc-be06-4ae9-af56-e7cea97304d5",
   "metadata": {},
   "outputs": [],
   "source": []
  },
  {
   "cell_type": "code",
   "execution_count": null,
   "id": "1de73d75-fcac-4821-9734-63b76c8ba7ed",
   "metadata": {},
   "outputs": [],
   "source": []
  },
  {
   "cell_type": "code",
   "execution_count": null,
   "id": "7527a73b-3498-4b9a-922f-f3818b7a9079",
   "metadata": {},
   "outputs": [],
   "source": []
  },
  {
   "cell_type": "code",
   "execution_count": null,
   "id": "fc271c62-02ff-448d-b597-7cad565509a7",
   "metadata": {},
   "outputs": [],
   "source": []
  },
  {
   "cell_type": "code",
   "execution_count": null,
   "id": "2eb5bf20-6aa8-4e27-bd11-cb28c54a1257",
   "metadata": {},
   "outputs": [],
   "source": []
  },
  {
   "cell_type": "code",
   "execution_count": null,
   "id": "3f61a681-e38e-41c1-87af-211bc2544558",
   "metadata": {},
   "outputs": [],
   "source": []
  }
 ],
 "metadata": {
  "kernelspec": {
   "display_name": "Python 3 (ipykernel)",
   "language": "python",
   "name": "python3"
  },
  "language_info": {
   "codemirror_mode": {
    "name": "ipython",
    "version": 3
   },
   "file_extension": ".py",
   "mimetype": "text/x-python",
   "name": "python",
   "nbconvert_exporter": "python",
   "pygments_lexer": "ipython3",
   "version": "3.12.7"
  }
 },
 "nbformat": 4,
 "nbformat_minor": 5
}
