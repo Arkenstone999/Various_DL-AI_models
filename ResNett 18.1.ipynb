{
 "cells": [
  {
   "cell_type": "markdown",
   "id": "a89e77fb-a4dd-45dc-aa85-bb87afd4e0c8",
   "metadata": {},
   "source": [
    "Here labels grouped\n",
    "Used model ResNet18 (pretrained on EmotionNet)"
   ]
  },
  {
   "cell_type": "code",
   "execution_count": 1,
   "id": "1ba393ae-ea72-46aa-b68c-998e31115ddf",
   "metadata": {},
   "outputs": [],
   "source": [
    "import pandas as pd"
   ]
  },
  {
   "cell_type": "code",
   "execution_count": 2,
   "id": "a6ba82fd-9384-458d-a9ae-70f45c9751a1",
   "metadata": {},
   "outputs": [],
   "source": [
    "import torch\n",
    "import torch.nn as nn\n",
    "from torchvision.transforms import functional as TF\n",
    "from torch.utils.data import Dataset, DataLoader\n",
    "from sklearn.preprocessing import LabelEncoder\n",
    "from sklearn.model_selection import train_test_split\n",
    "import pandas as pd\n",
    "import matplotlib.pyplot as plt\n",
    "import random\n",
    "\n",
    "from torchvision import transforms\n",
    "from torchvision import models\n",
    "import torch.optim as optim\n",
    "\n"
   ]
  },
  {
   "cell_type": "code",
   "execution_count": 3,
   "id": "20d56f16-80b3-43b8-96de-829a807225b2",
   "metadata": {},
   "outputs": [],
   "source": [
    "df = pd.read_pickle('combined_df.pkl')"
   ]
  },
  {
   "cell_type": "code",
   "execution_count": 4,
   "id": "42f35537-fdd1-4ad8-8b89-84be24cbed82",
   "metadata": {},
   "outputs": [
    {
     "data": {
      "text/plain": [
       "(33693, 6)"
      ]
     },
     "execution_count": 4,
     "metadata": {},
     "output_type": "execute_result"
    }
   ],
   "source": [
    "df.shape"
   ]
  },
  {
   "cell_type": "code",
   "execution_count": 5,
   "id": "8b960ded-0b72-4364-81c8-796ce257d626",
   "metadata": {},
   "outputs": [],
   "source": [
    "df = df.dropna(subset=['image'])"
   ]
  },
  {
   "cell_type": "code",
   "execution_count": 6,
   "id": "cd8e9839-212f-4b58-9f23-8435f88ac57f",
   "metadata": {},
   "outputs": [
    {
     "data": {
      "text/plain": [
       "(29689, 6)"
      ]
     },
     "execution_count": 6,
     "metadata": {},
     "output_type": "execute_result"
    }
   ],
   "source": [
    "df.shape"
   ]
  },
  {
   "cell_type": "code",
   "execution_count": 7,
   "id": "46f8e521-cba9-407b-863a-2152e7cb7ba1",
   "metadata": {},
   "outputs": [
    {
     "data": {
      "text/plain": [
       "Index(['name', 'description', 'label', 'base_name', 'emotion_category',\n",
       "       'image'],\n",
       "      dtype='object')"
      ]
     },
     "execution_count": 7,
     "metadata": {},
     "output_type": "execute_result"
    }
   ],
   "source": [
    "df.columns"
   ]
  },
  {
   "cell_type": "code",
   "execution_count": 8,
   "id": "5dac9263-d195-4e97-ae4e-1df4e3fecfb3",
   "metadata": {},
   "outputs": [
    {
     "data": {
      "text/plain": [
       "array(['irritation', 'frustration', 'wrath', 'rage', 'anger',\n",
       "       'exasperation', 'spite', 'fury', 'annoyance', 'resentment',\n",
       "       'grumpiness', 'outrage', 'aggravation', 'hostility', 'grouchiness',\n",
       "       'desire', 'passion', 'longing', 'lust', 'infatuation', 'gloom',\n",
       "       'rejection', 'disappointment', 'unhappiness', 'defeat',\n",
       "       'agitation', 'insult', 'loneliness', 'alienation', 'hate',\n",
       "       'displeasure', 'jealousy', 'dislike', 'contempt', 'disgust',\n",
       "       'envy', 'revulsion', 'bitterness', 'scorn', 'loathing', 'horror',\n",
       "       'terror', 'dread', 'nervousness', 'fear', 'worry', 'panic',\n",
       "       'fright', 'hysteria', 'alarm', 'dismay', 'tenseness',\n",
       "       'apprehension', 'anxiety', 'uneasiness', 'hurt', 'suffering',\n",
       "       'agony', 'distress', 'anguish', 'insecurity', 'torment',\n",
       "       'optimism', 'attraction', 'excitement', 'liking', 'eagerness',\n",
       "       'hope', 'zeal', 'arousal', 'gladness', 'joy', 'happiness',\n",
       "       'delight', 'rapture', 'cheerfulness', 'joviality', 'elation',\n",
       "       'bliss', 'enjoyment', 'ecstasy', 'gaiety', 'euphoria',\n",
       "       'jubilation', 'glee', 'jolliness', 'zest', 'caring', 'love',\n",
       "       'affection', 'compassion', 'adoration', 'pity', 'sentimentality',\n",
       "       'tenderness', 'sympathy', 'fondness', 'isolation', 'neglect',\n",
       "       'contentment', 'pride', 'satisfaction', 'pleasure', 'triumph',\n",
       "       'relief', 'sadness', 'hopelessness', 'grief', 'despair',\n",
       "       'depression', 'sorrow', 'melancholy', 'dejection', 'misery', 'woe',\n",
       "       'glumness', 'homesickness', 'guilt', 'humiliation', 'shame',\n",
       "       'embarrassment', 'remorse', 'regret', 'mortification',\n",
       "       'astonishment', 'shock', 'amusement', 'amazement', 'surprise',\n",
       "       'thrill', 'enthusiasm', 'exhilaration', 'enthrallment',\n",
       "       'vengefulness'], dtype=object)"
      ]
     },
     "execution_count": 8,
     "metadata": {},
     "output_type": "execute_result"
    }
   ],
   "source": [
    "df['label'].unique()"
   ]
  },
  {
   "cell_type": "code",
   "execution_count": 9,
   "id": "e0c8b790-9e1a-42bd-80c3-0e5aa246c320",
   "metadata": {},
   "outputs": [
    {
     "name": "stdout",
     "output_type": "stream",
     "text": [
      "engagement_type\n",
      "engaged-negative    13160\n",
      "engaged-positive    12874\n",
      "not engaged          3652\n",
      "Name: count, dtype: int64\n"
     ]
    }
   ],
   "source": [
    "# Mapping dictionary\n",
    "engagement_mapping = {\n",
    "    \"not engaged\": [\n",
    "        \"isolation\", \"neglect\", \"pity\", \"sentimentality\", \"loneliness\", \"gloom\", \"alienation\", \"defeat\", \"anguish\", \"dejection\",\n",
    "        \"hopelessness\", \"melancholy\", \"depression\", \"homesickness\", \"longing\"\n",
    "    ],\n",
    "    \"engaged-positive\": [\n",
    "        \"lust\", \"desire\", \"infatuation\", \"passion\", \"attraction\", \"liking\",\n",
    "        \"excitement\", \"hope\", \"optimism\", \"eagerness\", \"zeal\", \"arousal\", \"joy\", \"zest\",\n",
    "        \"cheerfulness\", \"happiness\", \"elation\", \"rapture\", \"enjoyment\", \"gladness\",\n",
    "        \"bliss\", \"gaiety\", \"jubilation\", \"delight\", \"euphoria\", \"jolliness\", \"joviality\",\n",
    "        \"glee\", \"ecstasy\", \"caring\", \"love\", \"tenderness\", \"affection\", \"adoration\",\n",
    "        \"fondness\", \"compassion\", \"sympathy\", \"pleasure\", \"pride\", \"satisfaction\",\n",
    "        \"contentment\", \"relief\", \"triumph\", \"enthusiasm\", \"amusement\", \"surprise\",\n",
    "        \"astonishment\", \"amazement\", \"shock\", \"thrill\", \"exhilaration\", \"enthrallment\"\n",
    "    ],\n",
    "    \"engaged-negative\": [\n",
    "        \"irritation\", \"wrath\", \"annoyance\", \"rage\", \"aggravation\", \"anger\", \"resentment\",\n",
    "        \"grumpiness\", \"frustration\", \"fury\", \"hostility\", \"exasperation\", \"outrage\",\n",
    "        \"grouchiness\", \"spite\", \"unhappiness\", \"disappointment\", \"insult\",\n",
    "        \"rejection\", \"agitation\", \"bitterness\", \"hate\",\n",
    "        \"disgust\", \"dislike\", \"contempt\", \"scorn\", \"displeasure\", \"envy\", \"loathing\",\n",
    "        \"jealousy\", \"revulsion\", \"nervousness\", \"alarm\", \"fear\", \"fright\", \"horror\",\n",
    "        \"terror\", \"dread\", \"hysteria\", \"dismay\", \"apprehension\", \"worry\", \"panic\",\n",
    "        \"tenseness\", \"uneasiness\", \"anxiety\", \"suffering\", \"hurt\", \"agony\",\n",
    "        \"insecurity\", \"distress\", \"torment\", \"sadness\", \"grief\", \"glumness\", \"sorrow\", \"despair\", \"misery\", \"woe\", \"regret\", \"guilt\", \"shame\", \"embarrassment\", \"mortification\",\n",
    "        \"remorse\", \"humiliation\"\n",
    "    ]\n",
    "}\n",
    "\n",
    "# Step 1: Flatten the mapping\n",
    "flat_mapping = {}\n",
    "for engagement_type, labels in engagement_mapping.items():\n",
    "    for label in labels:\n",
    "        flat_mapping[label] = engagement_type\n",
    "\n",
    "# Step 2: Apply mapping to your DataFrame\n",
    "df['engagement_type'] = df['label'].map(flat_mapping)\n",
    "\n",
    "# Step 3: Optional - check distribution\n",
    "print(df['engagement_type'].value_counts())\n",
    "\n",
    "\n"
   ]
  },
  {
   "cell_type": "code",
   "execution_count": 11,
   "id": "31534d41-8ee7-4750-83e6-650bb2cf1731",
   "metadata": {},
   "outputs": [
    {
     "name": "stdout",
     "output_type": "stream",
     "text": [
      "engagement_type\n",
      "engaged-negative    3652\n",
      "engaged-positive    3652\n",
      "not engaged         3652\n",
      "Name: count, dtype: int64\n"
     ]
    },
    {
     "name": "stderr",
     "output_type": "stream",
     "text": [
      "C:\\Users\\alina\\AppData\\Local\\Temp\\ipykernel_12504\\3667488993.py:7: DeprecationWarning: DataFrameGroupBy.apply operated on the grouping columns. This behavior is deprecated, and in a future version of pandas the grouping columns will be excluded from the operation. Either pass `include_groups=False` to exclude the groupings or explicitly select the grouping columns after groupby to silence this warning.\n",
      "  .apply(lambda x: x.sample(n=min_class_size, random_state=42))\n"
     ]
    }
   ],
   "source": [
    "# Step 1: Define the target sample size\n",
    "min_class_size = df['engagement_type'].value_counts().min()\n",
    "\n",
    "# Step 2: Sample each class down to the minimum size\n",
    "df_balanced = (\n",
    "    df.groupby('engagement_type', group_keys=False)\n",
    "      .apply(lambda x: x.sample(n=min_class_size, random_state=42))\n",
    "      .reset_index(drop=True)\n",
    ")\n",
    "\n",
    "# Step 3: Check the balance\n",
    "print(df_balanced['engagement_type'].value_counts())"
   ]
  },
  {
   "cell_type": "code",
   "execution_count": 12,
   "id": "05602491-6e1f-40a9-80f5-dd1fa8956a33",
   "metadata": {},
   "outputs": [
    {
     "data": {
      "text/plain": [
       "Index(['name', 'description', 'label', 'base_name', 'emotion_category',\n",
       "       'image', 'engagement_type'],\n",
       "      dtype='object')"
      ]
     },
     "execution_count": 12,
     "metadata": {},
     "output_type": "execute_result"
    }
   ],
   "source": [
    "df_balanced.columns"
   ]
  },
  {
   "cell_type": "code",
   "execution_count": 13,
   "id": "7cf698de-364d-4d80-b261-6d8a5d24d1e2",
   "metadata": {},
   "outputs": [],
   "source": [
    "df_balanced = df_balanced[['image', 'engagement_type']]"
   ]
  },
  {
   "cell_type": "code",
   "execution_count": 14,
   "id": "e9b049fb-90ff-4a05-89e5-cd80cd7c9de0",
   "metadata": {},
   "outputs": [
    {
     "data": {
      "text/plain": [
       "0"
      ]
     },
     "execution_count": 14,
     "metadata": {},
     "output_type": "execute_result"
    }
   ],
   "source": [
    "df_balanced['engagement_type'].isna().sum()"
   ]
  },
  {
   "cell_type": "code",
   "execution_count": 15,
   "id": "741cbb5c-56b5-40ac-8bc7-e5747ae46794",
   "metadata": {},
   "outputs": [],
   "source": [
    "# --- Data Augmentation for Tensors ---\n",
    "class TensorAugmentation:\n",
    "    def __call__(self, img):\n",
    "        if random.random() > 0.5:\n",
    "            img = TF.hflip(img)\n",
    "        if random.random() > 0.5:\n",
    "            img = TF.rotate(img, angle=random.uniform(-10, 10))\n",
    "        img = TF.adjust_brightness(img, brightness_factor=random.uniform(0.9, 1.1))\n",
    "        img = TF.adjust_contrast(img, contrast_factor=random.uniform(0.9, 1.1))\n",
    "        mean = torch.tensor([0.485, 0.456, 0.406]).view(3, 1, 1)\n",
    "        std = torch.tensor([0.229, 0.224, 0.225]).view(3, 1, 1)\n",
    "        img = (img - mean) / std\n",
    "        return img"
   ]
  },
  {
   "cell_type": "code",
   "execution_count": 16,
   "id": "0c0bc0d1-fbd9-41c5-a740-18fc8e8531e8",
   "metadata": {},
   "outputs": [],
   "source": [
    "class EngagementDataset(Dataset):\n",
    "    def __init__(self, dataframe, transform=None):\n",
    "        self.images = list(dataframe['image'].values)\n",
    "        self.labels = LabelEncoder().fit_transform(dataframe['engagement_type'].values)\n",
    "        self.labels = torch.tensor(self.labels, dtype=torch.long)\n",
    "        self.transform = transform\n",
    "\n",
    "    def __len__(self):\n",
    "        return len(self.images)\n",
    "\n",
    "    def __getitem__(self, idx):\n",
    "        image = self.images[idx]\n",
    "        if isinstance(image, torch.Tensor):\n",
    "            image = image.float()\n",
    "        if self.transform:\n",
    "            image = self.transform(image)\n",
    "        return image, self.labels[idx]"
   ]
  },
  {
   "cell_type": "code",
   "execution_count": 17,
   "id": "fab4c8fc-1f36-4bf1-a58f-2d33681c7840",
   "metadata": {},
   "outputs": [],
   "source": [
    "# --- Load Pretrained ResNet18 and Modify ---\n",
    "def get_resnet18_model(num_classes=3, dropout_p=0.5, freeze_features=True):\n",
    "    model = models.resnet18(pretrained=True)\n",
    "    if freeze_features:\n",
    "        for param in model.parameters():\n",
    "            param.requires_grad = False\n",
    "    num_ftrs = model.fc.in_features\n",
    "    model.fc = nn.Sequential(\n",
    "        nn.Linear(num_ftrs, 512),\n",
    "        nn.ReLU(),\n",
    "        nn.Dropout(dropout_p),\n",
    "        nn.Linear(512, num_classes)\n",
    "    )\n",
    "    return model"
   ]
  },
  {
   "cell_type": "code",
   "execution_count": 18,
   "id": "100c1375-f0b0-4b45-89a2-35ac8393c795",
   "metadata": {},
   "outputs": [],
   "source": [
    "class NormalizeOnly:\n",
    "    def __call__(self, img):\n",
    "        mean = torch.tensor([0.485, 0.456, 0.406]).view(3, 1, 1)\n",
    "        std = torch.tensor([0.229, 0.224, 0.225]).view(3, 1, 1)\n",
    "        return (img - mean) / std"
   ]
  },
  {
   "cell_type": "code",
   "execution_count": 19,
   "id": "5bc45ec2-376b-4326-9fed-c989585e0b8f",
   "metadata": {},
   "outputs": [],
   "source": [
    "# Split the dataframe (df_balanced is your full, labeled dataset)\n",
    "train_df, val_df = train_test_split(\n",
    "    df_balanced, \n",
    "    test_size=0.15, \n",
    "    stratify=df_balanced[\"engagement_type\"], \n",
    "    random_state=42\n",
    ")"
   ]
  },
  {
   "cell_type": "code",
   "execution_count": 20,
   "id": "141db7d4-f876-41ac-8d7d-d9ea89cb0ec6",
   "metadata": {},
   "outputs": [],
   "source": [
    "# Define augmentations\n",
    "train_transform = TensorAugmentation()\n",
    "val_transform = NormalizeOnly()"
   ]
  },
  {
   "cell_type": "code",
   "execution_count": 21,
   "id": "21a1ca69-1e2f-4aff-90fa-4fc1dc4d4cd7",
   "metadata": {},
   "outputs": [],
   "source": [
    "# Create datasets\n",
    "train_dataset = EngagementDataset(train_df, transform=train_transform)\n",
    "val_dataset = EngagementDataset(val_df, transform=val_transform)"
   ]
  },
  {
   "cell_type": "code",
   "execution_count": 22,
   "id": "52a76f8d-eb27-4eb2-8649-7cd2752b8015",
   "metadata": {},
   "outputs": [],
   "source": [
    "# Create data loaders\n",
    "train_loader = DataLoader(train_dataset, batch_size=32, shuffle=True)\n",
    "val_loader = DataLoader(val_dataset, batch_size=32, shuffle=False)"
   ]
  },
  {
   "cell_type": "code",
   "execution_count": null,
   "id": "e61f9be3-5d3a-45a7-8fd3-dee3c155296c",
   "metadata": {},
   "outputs": [],
   "source": []
  },
  {
   "cell_type": "code",
   "execution_count": null,
   "id": "88dae99f-1960-428b-aa1e-e0dbab6191e6",
   "metadata": {},
   "outputs": [],
   "source": []
  },
  {
   "cell_type": "code",
   "execution_count": 23,
   "id": "7e4e6049-4747-4fcb-992a-5172df242c60",
   "metadata": {},
   "outputs": [
    {
     "name": "stderr",
     "output_type": "stream",
     "text": [
      "C:\\Users\\alina\\AppData\\Local\\Programs\\Python\\Python312\\Lib\\site-packages\\torchvision\\models\\_utils.py:208: UserWarning: The parameter 'pretrained' is deprecated since 0.13 and may be removed in the future, please use 'weights' instead.\n",
      "  warnings.warn(\n",
      "C:\\Users\\alina\\AppData\\Local\\Programs\\Python\\Python312\\Lib\\site-packages\\torchvision\\models\\_utils.py:223: UserWarning: Arguments other than a weight enum or `None` for 'weights' are deprecated since 0.13 and may be removed in the future. The current behavior is equivalent to passing `weights=ResNet18_Weights.IMAGENET1K_V1`. You can also use `weights=ResNet18_Weights.DEFAULT` to get the most up-to-date weights.\n",
      "  warnings.warn(msg)\n"
     ]
    }
   ],
   "source": [
    "# Device setup\n",
    "device = torch.device(\"cuda\" if torch.cuda.is_available() else \"cpu\")\n",
    "\n",
    "# Model, loss, optimizer\n",
    "model = get_resnet18_model(num_classes=3)\n",
    "model = model.to(device)\n",
    "\n",
    "criterion = nn.CrossEntropyLoss()\n",
    "optimizer = optim.Adam(model.parameters(), lr=1e-3)"
   ]
  },
  {
   "cell_type": "code",
   "execution_count": 24,
   "id": "b8d32cf2-ac66-4801-ad0e-fe9668ce0e03",
   "metadata": {},
   "outputs": [
    {
     "name": "stdout",
     "output_type": "stream",
     "text": [
      "Epoch 1, Loss: 1.0922, Train Acc: 39.48%\n",
      "→ Validation Acc: 32.91%\n",
      "Epoch 2, Loss: 1.0574, Train Acc: 42.77%\n",
      "→ Validation Acc: 33.27%\n",
      "Epoch 3, Loss: 1.0542, Train Acc: 43.80%\n",
      "→ Validation Acc: 33.03%\n",
      "Epoch 4, Loss: 1.0428, Train Acc: 44.41%\n",
      "→ Validation Acc: 32.73%\n",
      "Epoch 5, Loss: 1.0392, Train Acc: 45.11%\n",
      "→ Validation Acc: 33.15%\n",
      "Epoch 6, Loss: 1.0348, Train Acc: 45.47%\n",
      "→ Validation Acc: 33.27%\n",
      "Epoch 7, Loss: 1.0320, Train Acc: 45.72%\n",
      "→ Validation Acc: 33.09%\n",
      "Epoch 8, Loss: 1.0252, Train Acc: 46.76%\n",
      "→ Validation Acc: 33.45%\n",
      "Epoch 9, Loss: 1.0274, Train Acc: 46.49%\n",
      "→ Validation Acc: 33.21%\n",
      "Epoch 10, Loss: 1.0275, Train Acc: 47.11%\n",
      "→ Validation Acc: 33.27%\n"
     ]
    }
   ],
   "source": [
    "# Training loop\n",
    "for epoch in range(10):  # Adjust number of epochs as needed\n",
    "    model.train()\n",
    "    running_loss = 0.0\n",
    "    correct = 0\n",
    "    total = 0\n",
    "\n",
    "    for images, labels in train_loader:\n",
    "        images, labels = images.to(device), labels.to(device)\n",
    "\n",
    "        optimizer.zero_grad()\n",
    "        outputs = model(images)\n",
    "        loss = criterion(outputs, labels)\n",
    "        loss.backward()\n",
    "        optimizer.step()\n",
    "\n",
    "        running_loss += loss.item()\n",
    "        _, predicted = outputs.max(1)\n",
    "        total += labels.size(0)\n",
    "        correct += predicted.eq(labels).sum().item()\n",
    "\n",
    "    train_acc = 100. * correct / total\n",
    "    print(f\"Epoch {epoch+1}, Loss: {running_loss/len(train_loader):.4f}, Train Acc: {train_acc:.2f}%\")\n",
    "\n",
    "    # Validation\n",
    "    model.eval()\n",
    "    correct_val = 0\n",
    "    total_val = 0\n",
    "    with torch.no_grad():\n",
    "        for images, labels in val_loader:\n",
    "            images, labels = images.to(device), labels.to(device)\n",
    "            outputs = model(images)\n",
    "            _, predicted = outputs.max(1)\n",
    "            total_val += labels.size(0)\n",
    "            correct_val += predicted.eq(labels).sum().item()\n",
    "\n",
    "    val_acc = 100. * correct_val / total_val\n",
    "    print(f\"→ Validation Acc: {val_acc:.2f}%\")\n"
   ]
  },
  {
   "cell_type": "code",
   "execution_count": null,
   "id": "78424bc7-a07c-4b53-9434-42a3a65aac3c",
   "metadata": {},
   "outputs": [],
   "source": []
  },
  {
   "cell_type": "code",
   "execution_count": null,
   "id": "936ff739-b909-4698-8d65-df6ff52d169e",
   "metadata": {},
   "outputs": [],
   "source": []
  },
  {
   "cell_type": "code",
   "execution_count": null,
   "id": "1ef094ed-e2b6-406a-bbb5-5f67f1f9c3aa",
   "metadata": {},
   "outputs": [],
   "source": []
  },
  {
   "cell_type": "code",
   "execution_count": null,
   "id": "fd349c48-4cf6-4238-8f5c-9273af4cd5b6",
   "metadata": {},
   "outputs": [],
   "source": []
  },
  {
   "cell_type": "code",
   "execution_count": null,
   "id": "8341efba-dd88-4d9f-ada4-3ffedca8e1a7",
   "metadata": {},
   "outputs": [],
   "source": []
  }
 ],
 "metadata": {
  "kernelspec": {
   "display_name": "Python 3 (ipykernel)",
   "language": "python",
   "name": "python3"
  },
  "language_info": {
   "codemirror_mode": {
    "name": "ipython",
    "version": 3
   },
   "file_extension": ".py",
   "mimetype": "text/x-python",
   "name": "python",
   "nbconvert_exporter": "python",
   "pygments_lexer": "ipython3",
   "version": "3.12.7"
  }
 },
 "nbformat": 4,
 "nbformat_minor": 5
}
